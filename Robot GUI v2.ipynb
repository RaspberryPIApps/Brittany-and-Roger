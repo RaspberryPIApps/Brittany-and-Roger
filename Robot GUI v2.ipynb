{
 "metadata": {
  "name": "",
  "signature": "sha256:eed16e30e34afc1427f117770812b6da84dd5a7f9dcf88bc3797ba052612e91d"
 },
 "nbformat": 3,
 "nbformat_minor": 0,
 "worksheets": [
  {
   "cells": [
    {
     "cell_type": "heading",
     "level": 1,
     "metadata": {},
     "source": [
      "Robot GUI"
     ]
    },
    {
     "cell_type": "heading",
     "level": 5,
     "metadata": {},
     "source": [
      "Please select Cell > Run All !! DO NOT close turtle world before GUI."
     ]
    },
    {
     "cell_type": "code",
     "collapsed": false,
     "input": [
      "from swampy.TurtleWorld import *\n",
      "from math import *\n",
      "import random\n",
      "from Tkinter import *\n",
      "import tkFont\n",
      "import turtle"
     ],
     "language": "python",
     "metadata": {},
     "outputs": [],
     "prompt_number": 9
    },
    {
     "cell_type": "code",
     "collapsed": false,
     "input": [
      "#Find the comma and parse the string that follows\n",
      "def Parse():\n",
      "    inputs=stringtext.get(\"1.0\",END)\n",
      "    inputs+=\",\"\n",
      "    strbeg=0;\n",
      "    for i in range (0,len(inputs)):\n",
      "        if inputs[i]==\",\":\n",
      "            Move(inputs[strbeg:i])\n",
      "            strbeg=i+1"
     ],
     "language": "python",
     "metadata": {},
     "outputs": [],
     "prompt_number": 10
    },
    {
     "cell_type": "code",
     "collapsed": false,
     "input": [
      "#Determine the parsed command\n",
      "def Move(command):\n",
      "    command=command.upper()\n",
      "    if command[0]==\"F\":\n",
      "        #forward\n",
      "        fd(bob,int(command[1:]))\n",
      "    elif command[0]==\"R\":\n",
      "        #right wheel moves, left wheel holds\n",
      "        print \"placeholder\"\n",
      "    elif command[0]==\"L\":\n",
      "        #left wheel moves, right wheel holds\n",
      "        print \"placeholder\"\n",
      "    elif command[0]==\"T\":\n",
      "        #twist\n",
      "        rt(bob,int(command[1:]))\n",
      "    elif command[0]==\"P\":\n",
      "        #pendown, penup\n",
      "        if int(command[1])==1:\n",
      "            bob.pd()\n",
      "        elif int(command[1])==0:\n",
      "            bob.pu()"
     ],
     "language": "python",
     "metadata": {},
     "outputs": [],
     "prompt_number": 11
    },
    {
     "cell_type": "code",
     "collapsed": false,
     "input": [
      "#create window & set the size/position\n",
      "Window = Tk()\n",
      "w = 750\n",
      "h = 330\n",
      "x = 630\n",
      "y = 200\n",
      "Window.geometry(\"%dx%d+%d+%d\" % (w, h, x, y))\n",
      "Window.configure(background=\"#a0db8e\")\n",
      "Window.wm_title(\"MathBot\")"
     ],
     "language": "python",
     "metadata": {},
     "outputs": [
      {
       "metadata": {},
       "output_type": "pyout",
       "prompt_number": 12,
       "text": [
        "''"
       ]
      }
     ],
     "prompt_number": 12
    },
    {
     "cell_type": "code",
     "collapsed": false,
     "input": [
      "#input box\n",
      "stringtext = Text(Window, width=30, height=10)\n",
      "stringtext.place(x=50, y=90)\n",
      "execute=Button(Window, text='Move Robot', fg=\"black\", command=Parse)\n",
      "execute.place(x=50, y=270)"
     ],
     "language": "python",
     "metadata": {},
     "outputs": [],
     "prompt_number": 13
    },
    {
     "cell_type": "code",
     "collapsed": false,
     "input": [
      "#create turtle\n",
      "world = TurtleWorld()\n",
      "bob = Turtle()\n",
      "set_color(bob, 'green');"
     ],
     "language": "python",
     "metadata": {},
     "outputs": [],
     "prompt_number": 14
    },
    {
     "cell_type": "code",
     "collapsed": false,
     "input": [
      "#instructions & commands\n",
      "instruct = Label(text = 'Enter a list of commands seperated by commas.', bg='#a0db8e',fg='#101514',font=(\"Helvetica\", 16))\n",
      "instruct.place(x=50, y=40)\n",
      "F = Label(text = 'F (forward)', bg='#a0db8e',fg='#101514',font=(\"Helvetica\", 12))\n",
      "F.place(x=400, y=100)\n",
      "R = Label(text = 'R (right wheel moves, left wheel holds)', bg='#a0db8e',fg='#101514',font=(\"Helvetica\", 12))\n",
      "R.place(x=400, y=125)\n",
      "L = Label(text = 'L (left wheel moves, right wheel holds)', bg='#a0db8e',fg='#101514',font=(\"Helvetica\", 12))\n",
      "L.place(x=400, y=150)\n",
      "T = Label(text = 'T (twist)', bg='#a0db8e',fg='#101514',font=(\"Helvetica\", 12))\n",
      "T.place(x=400, y=175)\n",
      "P0 = Label(text = 'P0 (penup)', bg='#a0db8e',fg='#101514',font=(\"Helvetica\", 12))\n",
      "P0.place(x=400, y=200)\n",
      "P1 = Label(text = 'P1 (pendown)', bg='#a0db8e',fg='#101514',font=(\"Helvetica\", 12))\n",
      "P1.place(x=400, y=225)\n",
      "exam = Label(text = 'Example: f60,T20,p0,F80,t10,P1,f-90', bg='#a0db8e',fg='#101514',font=(\"Helvetica\", 12))\n",
      "exam.place(x=400, y=250)"
     ],
     "language": "python",
     "metadata": {},
     "outputs": [],
     "prompt_number": 15
    },
    {
     "cell_type": "code",
     "collapsed": false,
     "input": [
      "Window.mainloop();"
     ],
     "language": "python",
     "metadata": {},
     "outputs": [],
     "prompt_number": 16
    }
   ],
   "metadata": {}
  }
 ]
}