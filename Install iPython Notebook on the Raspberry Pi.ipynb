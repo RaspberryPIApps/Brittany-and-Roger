{
 "metadata": {
  "name": "",
  "signature": "sha256:0a9dadc0b2e676381bc088f87ee98ada12aee6c9523b1b45cc90c01323734ed9"
 },
 "nbformat": 3,
 "nbformat_minor": 0,
 "worksheets": [
  {
   "cells": [
    {
     "cell_type": "heading",
     "level": 1,
     "metadata": {},
     "source": [
      "How to Install iPython Notebook to the Raspberry Pi"
     ]
    },
    {
     "cell_type": "heading",
     "level": 4,
     "metadata": {},
     "source": [
      "To install iPython notebook, enter the following command in the LXTerminal on your Pi:"
     ]
    },
    {
     "cell_type": "raw",
     "metadata": {},
     "source": [
      "sudo apt-get -y install ipython-notebook\n",
      "sudo apt-get -y install python-matplotlib python-scipy \\\n",
      "                 python-pandas python-sympy python-nose"
     ]
    },
    {
     "cell_type": "heading",
     "level": 4,
     "metadata": {},
     "source": [
      "Once the installation is complete, run the following command in your LXTerminal to open the iPython notebook:"
     ]
    },
    {
     "cell_type": "raw",
     "metadata": {},
     "source": [
      "ipython notebook"
     ]
    },
    {
     "cell_type": "code",
     "collapsed": false,
     "input": [],
     "language": "python",
     "metadata": {},
     "outputs": []
    }
   ],
   "metadata": {}
  }
 ]
}